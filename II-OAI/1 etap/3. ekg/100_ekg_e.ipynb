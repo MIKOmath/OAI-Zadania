{
 "cells": [
  {
   "cell_type": "markdown",
   "id": "7fee790bc89cb036",
   "metadata": {
    "jupyter": {
     "outputs_hidden": false
    }
   },
   "source": [
    "# Wykrywanie Zaburzeń Sygnału EKG"
   ]
  },
  {
   "cell_type": "markdown",
   "id": "92a6fec6",
   "metadata": {},
   "source": [
    "![ECG_anomaly_detection_intro.png](https://live.staticflickr.com/65535/54253200317_77c251c48c_o.png)\n",
    "\n",
    "*Obraz wygenerowany przy użyciu modelu DALL-E.*"
   ]
  },
  {
   "cell_type": "markdown",
   "id": "e6cc76c62a8c7e5e",
   "metadata": {
    "jupyter": {
     "outputs_hidden": false
    }
   },
   "source": [
    "## Wstęp\n",
    "\n",
    "Rozwój sztucznej inteligencji otwiera nowe możliwości w diagnostyce medycznej, zwłaszcza w analizie złożonych danych, takich jak [sygnały elektrokardiograficzne (EKG)](https://www.healio.com/cardiology/learn-the-heart/ecg-review/ecg-interpretation-tutorial). EKG to jedno z najczęściej stosowanych narzędzi diagnostycznych w medycynie, umożliwiające ocenę i wykrywanie nieprawidłowości pracy serca.\n",
    "\n",
    "Tradycyjnie sygnał EKG powstaje z dwunastu odprowadzeń, jednak w tym zadaniu skupimy się na sygnale jednoodprowadzeniowym, czyli dysponujemy\n",
    "jedną zmienną reprezentującą napięcie elektryczne generowane przez serce w czasie. Dane te są rejestrowane w postaci krzywej zależnej od czasu, czyli można tutaj mówić o szeregu czasowym. Z sygnału EKG można wydzielić charakterystyczne fragmenty, czyli **załamki** (ang. waves) P, Q, R, S, T oraz **odstępy** pomiędzy dwoma zdarzeniami w EKG (ang. intervals), spośród których istotną rolę odgrywa odstęp R-R (czas między wystąpieniem dwóch kolejnych załamków R). Oprócz tego mówimy o **odcinkach** (ang. segments), czyli długości między dwoma określonymi załamkami w EKG, pomiędzy którymi powinna występować bazowa amplituda sygnału. Z kolei **zespół** (ang. complex) stanowi kilka zgrupowanych załamków. Głównie wyrózniamy tutaj zespół QRS. Schematyczny rysunek EKG wraz z podpisanymi fragmentami, jest prezentowany poniżej.\n",
    "\n",
    "![ECG.png](https://live.staticflickr.com/65535/54254099351_213d47784d_o.png)\n",
    "\n",
    "W EKG pochodzącym od zdrowej osoby można zauważyć sekwencję PQRST. Na początku wyróżniamy załamek P, która reprezentuje skurcz przedsionków i jest małym pionowym wychyleniem przed zespołem QRS. Następnie, zespół QRS wskazuje na skurcz komór i tworzony jest przez trzy wygięcia: załamek Q, załamek R oraz załamek S. Dalej można zauważyć odcinek ST, czyli płaski odcinek między zespołem QRS a załamkiem T, który odpowiada wczesnej fazie repolaryzacji komór. Finalnie, załamek T, który jest zaokrąglonym, pionowym wychyleniem, dotyczy repolaryzacji komór i ich powrotu do wyjściowego stanu.  Sekwencja PQRST przypomina sinusoidę, której maksimum jest osiągane dla załamka R. W przypadku zaburzeń pracy serca, EKG może wykazywać różne anomalie, takie jak dodatkowe minima lub maksima, czy też znacznie zwiększone odchylenie standardowe podczas całego pomiaru. Charakterystyka tych anomalii zależy od rodzaju i przyczyny zaburzenia.\n",
    "\n",
    "W poniższym zadaniu musisz zmierzyć się z próbkami zawierającymi pojedyncze sekwencje PQRST oraz ich okolice. Większość próbek będzie odpowiadała danym bez anomalii, których przykład zaprezentowany jest na poniższym obrazku:\n",
    "\n",
    "![normal_example.png](https://live.staticflickr.com/65535/54253200322_f0173af129_o.png)\n",
    "\n",
    "Występować będą też pomiary odpowiadające czterem rodzajom zaburzeń:  **AFib**, czyli migotaniu przedsionków, **PAC**, czyli przedwczesnemu pobudzeniu przedsionkowemu, **PVC**, czyli przedwczesnym skurczom komorowym oraz **STEMI**, czyli zawałowi mięśnia sercowego z uniesieniem odcinka ST.\n",
    "\n",
    "**UWAGA**: Poniższe dane są danymi syntetycznymi i są tylko pewnym przybliżeniem rzeczywistych danych EKG!\n",
    "\n",
    "EKG jest typowym przykładem szeregu czasowego, który można analizować za pomocą dedykowanych metod uczenia maszynowego, w tym sieci neuronowych, np. sieci rekurencyjnych. Jednak nie zawsze wykorzystanie sieci neuronowych jest konieczne, a nawet wskazane. W przypadku niektórych problemów satysfakcjonujące wyniki można uzyskać za pomocą prostszych metod, gdzie kluczowe jest odpowiednie przygotowanie danych. Ich umiejętna analiza pozwala na selekcję kliku metacech - cech zwięźle opisujących próbki ze zbioru danych, np. średniej, minimum, maksimum, odchylenia standardowego, itp. Mogą być one wykorzystane do klasyfikacji zamiast oryginalnych cech. Dzięki temu korzystamy z niskowymiarowych danych wejściowych, przykładowo redukujemy 150-wymiarowy wektor zawierający informacje z oryginalnych kroków czasowych do wektora 4-wymiarowego zawierającego specjalnie przygotowane cechy.\n",
    "\n",
    "Przykładem zastosowania niewielkiej liczby metacech są modele uczenia maszynowego, które mają działać na urządzeniach wbudowanych lub małych urządzeniach mobilnych, gdzie kluczowe są takie ograniczenia, jak wymóg niskiego poboru energii, mała ilość dostępnej pamięci operacyjnej czy ograniczona moc obliczeniowa. W takich przypadkach wymagane jest zastosowanie prostszych modeli, które są w stanie zapewnić odpowiednią dokładność klasyfikacji przy jednoczesnym zachowaniu wymaganych ograniczeń.\n",
    "\n",
    "## Zadanie\n",
    "\n",
    "Przygotuj rozwiązanie (wraz z wytrenowaniem modelu lasu losowego), które spełni wymagania naszego urządzenia wbudowanego. Przeanalizuj dane i przygotuj zestaw **4 metacech**, które dadzą najlepszą zrównoważoną dokładność (ang. *balanced accuracy*) dla problemu klasyfikacji sygnałów EKG. Zbiór danych składa się ze zbioru treningowego oraz walidacyjnego (wraz z etykietami), na którym możesz weryfikować swoje podejście. Twoje rozwiązanie będzie sprawdzane na osobnym (tajnym) zbiorze testowym, w którym liczba obserwacji będzie się różnić od liczby obserwacji w zbiorach treningowym i walidacyjnym. Każda próbka jest opisana 150 wartościami odpowiadającymi kolejnym krokom czasowym oraz jest przypisana do jednej z pięciu następujących klas:\n",
    "\n",
    "| ID klasy  | Nazwa klasy   | Opis  | Próbki w zbiorze treningowym | Próbki w zbiorze walidacyjnym |\n",
    "| ------    | ------        | ----  | ---------------------------- | ----------------------------- |\n",
    "| 0         | normal        | brak anomalii | 1400 | 819 |\n",
    "| 1         | afib          | Atrial Fibrillation (migotanie przedsionków)| 150 | 142 |\n",
    "| 2         | pac           | Premature Atrial Contractions (przedwczesne pobudzenie przedsionkowe)| 150 | 191 |\n",
    "| 3         | pvc           | Premature Ventricular Complex (przedwczesne skurcze komorowe)| 150 | 197 |\n",
    "| 4         | st_elevation  | ST-elevation myocardial infarction (zawał mięśnia sercowego z uniesieniem odcinka ST) | 150 | 151 |\n",
    "\n",
    "Nowe cechy powinny zawierać kluczowe informacje diagnostyczne róznicujące powyższe klasy, które pozwolą na skuteczną klasyfikację wymienionych anomalii.\n",
    "\n",
    "Klasyfikatorem dla tego zadania jest [las losowy](https://pl.wikipedia.org/wiki/Las_losowy) z liczbą drzew decyzyjnych nie większą niż 10 oraz maksymalną głębokością 10. **Rozwiązania niespełniające tych warunków będą dyskwalifikowane!** W przypadku innych parametrów lasu nie ma ograniczeń. Dozwolony jest także preprocessing, czyli wstępne przetwarzanie danych wejściowych (np. zastosowanie normalizacji danych).\n",
    "\n",
    "### Kryterium Oceny\n",
    "\n",
    "Twoje rozwiązanie oceniane będzie na tajnym zbiorze testowym na podstawie [zrównoważonej dokładności klasyfikacji (balanced accuracy)](https://scikit-learn.org/dev/modules/generated/sklearn.metrics.balanced_accuracy_score.html):\n",
    "\n",
    "$$\\text{score}(balanced\\_accuracy) = \n",
    "\\begin{cases} \n",
    "    0 &\\quad \\text{jeżeli }  balanced\\_accuracy \\leq 75 \\% \\\\\n",
    "    100 &\\quad \\text{jeżeli }  balanced\\_accuracy \\geq 98 \\% \\\\\n",
    "    \\dfrac{balanced\\_accuracy - 75 \\%}{98 \\% - 75 \\%} &\\quad \\text{w pozostałych przypadkach}\n",
    "\\end{cases}$$\n",
    "\n",
    "Oznacza to, że wszystkie rozwiązania, które na zbiorze testowym uzyskają do $75\\%$ zrównoważonej dokładności klasyfikacji, otrzymają $0$ punktów, zaś co najmniej $98\\%$ zrównoważonej dokładności klasyfikacji, uzyskają maksymalną liczbę punktów za zadanie. Wszystkie zaś wartości z przedziału $75-98\\%$ zostaną zamienione na liczbę punktów (między $0$ a $100$) zgodnie z powyższym wzorem.\n",
    "\n",
    "*Wskazówka*: Twoim wyznacznikiem jakości proponowanego rozwiązania powinien być wynik na zbiorze walidacyjnym.\n",
    "\n",
    "W zagadnieniach dot. wykrywania chorób dość często mamy do czynienia z niezrównoważonym (niezbalansowanym) zbiorem danych. Chodzi o to, że zazwyczaj wśród danych dominują przykłady *normalne*, odpowiadające osobom zdrowym, a próbki reprezentujące osoby chore zwykle należą do mniejszości. Wyobraźmy sobie sytuację, w której na 100 próbek jedynie 10 dotyczy osób chorych, a pozostałe 90 zdrowych. Wówczas model, który każdej próbce przyporządkowywałby klasę *zdrowy*, osiągnąłby 90% dokładności klasyfikacji, lecz jedynie 50% zrównoważonej dokładności klasyfikacji! Oczywiście taki model byłby bezużyteczny. W takich przypadkach potrzebujemy miary, która lepiej odpowiada potrzebom wynikającym z postawionego problemu i informuje o skuteczności modelu w sposób użyteczny z punktu widzenia jego późniejszego użytkownika.\n",
    "\n",
    "W tym zadaniu musisz się więc skupić się na tym, by każda z klas była przyporządkowywana prawidłowo.\n",
    "\n",
    "## Ograniczenia\n",
    "- Twoje rozwiazanie będzie testowane na Platformie Konkursowej bez dostępu do internetu oraz w środowisku bez GPU.\n",
    "- Ewaluacja Twojego finalnego rozwiązania na Platformie Konkursowej nie może trwać dłużej niż 1 minutę bez GPU.\n",
    "- Podczas przygotowania danych należy pamiętać o tym, że:\n",
    "    - zakazane jest korzystanie z innych niż lasy losowe metod uczenia maszynowego, zarówno nadzorowanego jak i nienadzorowanego (np. autokodery, wielowarstwowe perceptrony i inne sieci neuronowe, maszyny wektorów nośnych (SVM), i inne), dozwolone są jednak metody redukcji wymiarowości, w stylu analizy składowych głównych (PCA);\n",
    "    - przy konstrukcji metacech można korzystać wyłącznie z funkcji dostępnych standardowo w Pythonie (`v3.11`), a także Numpy (`v2.0.2`) oraz Scipy (`v1.14.1`);\n",
    "    - można wyznaczyć maksymalnie 4 metacechy,\n",
    "- Do klasyfikacji można wykorzystać wyłącznie [las losowy (RandomForestClassifier) z biblioteki scikit-learn](https://scikit-learn.org/stable/modules/generated/sklearn.ensemble.RandomForestClassifier.html) (`v1.5.2`):\n",
    "    - złożony z maksymalnie 10 drzew decyzyjnych (`n_estimators` $\\leq 10$);\n",
    "    - każde drzewo ma mieć maksymalną głębokość równą 10 (`max_depth` $\\leq 10$);\n",
    "    - pozostałe hiperparametry można modyfikować bez ograniczeń;\n",
    "\n",
    "## Pliki Zgłoszeniowe\n",
    "Ten notebook uzupełniony o Twoje rozwiązanie (patrz klasa `YourSolution`), w którym przygotujesz zestaw 4 metacech opisujących zbiór danych oraz zestaw hiperparametrów lasu losowego.\n",
    "\n",
    "## Ewaluacja\n",
    "Pamiętaj, że podczas sprawdzania flaga `FINAL_EVALUATION_MODE` zostanie ustawiona na `True`.\n",
    "\n",
    "Za to zadanie możesz zdobyć pomiędzy 0 a 100 punktów. Liczba punktów, którą zdobędziesz, będzie wyliczona na (tajnym) zbiorze testowym na Platformie Konkursowej na podstawie wyżej wspomnianego wzoru, zaokrąglona do liczby całkowitej. Jeśli Twoje rozwiązanie nie będzie spełniało powyższych kryteriów lub nie będzie wykonywać się prawidłowo, otrzymasz za zadanie 0 punktów.\n",
    "\n",
    "---\n",
    "\n",
    "## Informacje Uzupełniające\n",
    "\n",
    "### Zrównoważona Dokładność Klasyfikacji\n",
    "\n",
    "Niech $C$ będzie liczbą klas, a $N_j$ odpowiada ilości próbek należących do $j$-tej klasy, gdzie $j \\in \\lbrace 1, ..., C \\rbrace$. Ponadto, niech $\\hat{y}_{i,j}$ będzie przewidywaną przez model klasą dla $j$-tej próbki należącej w rzeczywistości do $i$-tej klasy. Wówczas zrównoważoną (zbalansowaną) dokładność klasyfikacji możemy wyliczyć następująco:\n",
    "\n",
    "$$\n",
    "balanced\\_accuracy = \\dfrac{1}{C} \\sum\\limits_{i=1}^{C} \\sum\\limits_{j=1}^{|N_c|} \\dfrac{1}{|N_c|} \\cdot \\mathbf{1} \\left( \\hat{y}_{i, j} = i \\right),\n",
    "$$\n",
    "\n",
    "gdzie $\\mathbf{1} \\left( \\hat{y}_{i, j} = i \\right)$ jest funkcją indykatorową, która przyjmuje wartość 1, jeśli $\\hat{y}_{i, j} = i$, czyli w sytuacji, w której klasa przewidywana dla $j$-tej próbki jest taka sama jak rzeczywista klasa tej próbki oraz 0 w przeciwnym przypadku. Suma zewnętrzna przebiega po kolejnych klasach, a wewnętrzna po kolejnych próbkach należących do danej klasy.\n",
    "\n",
    "**Przykład**: Niech\n",
    "$$\\mathbf{y} = [0, 0, 0, 1, 1, 2, 2, 2, 2, 3, 3, 3]$$\n",
    "\n",
    "będzie wektorem reprezentującym rzeczywiste klasy dla kolejnych próbek, a\n",
    "\n",
    "$$\\mathbf{\\hat{y}} = [0, 0, 0, 0, 0, 2, 2, 2, 2, 3, 3, 3]$$\n",
    "\n",
    "wektorem reprezentującym predykcje modelu dla tychże próbek. Mamy więc do czynienia z czterema klasami, gdzie model miał problem z klasą o numerze $1$. Wszystkie pozostałe przykłady zostały przypisane bezbłędnie. Łącznie 10 na 12 próbek zostało sklasyfikowanych prawidłowo, co oznacza, że gdybyśmy mieli mierzyć \"zwykłą\" dokładność klasyfikacji, otrzymalibyśmy ok. $83.3\\%$ . Jednak gdy przyjrzymy się zbalansowanej dokładności klasyfikacji, otrzymamy wynik $75\\%$.\n",
    "\n",
    "Załóżmy teraz, że\n",
    "\n",
    "$$\\mathbf{\\hat{y}} = [0, 0, 0, 1, 0, 2, 2, 2, 2, 3, 3, 3]$$\n",
    "\n",
    "czyli model klasyfikuje poprawnie $50\\%$ próbek z klasy 1 oraz $100\\%$ próbek z pozostałych klas. \"Zwykła\" dokładność klasyfikacji wynosi tutaj niespełna $92\\%$, podczas gdy zbalansowana dokładność klasyfikacji wynosi $87.5\\%$.\n",
    "\n",
    "### Anomalie Występujące w Rozważanym Zbiorze Danych\n",
    "\n",
    "#### AFib\n",
    "**Atrial Fibrillation (AFib)**, czyli migotanie przedsionków, występuje wtedy, gdy potencjały czynnościowe wyzwalają się bardzo szybko i chaotycznie, w związku z tym rytm serca jest nieregularny. W tym zaburzeniu załamki P mogą nie być widoczne w EKG, a zespół QRS staje się nieregularny.\n",
    "\n",
    "![AFIB_example.png](https://live.staticflickr.com/65535/54253219357_78c51f06ff_o.png)\n",
    "\n",
    "#### PAC\n",
    "**Premature Atrial Contractions (PACs)**, czyli przedwczesne pobudzenie przedsionkowe, związane jest z nieprawidłowym załamkiem P, po którym następuje prawidłowy zespół QRS. *Uwaga!* W próbkach z zadania występują przykłady, w których w ramach jednej próbki ze zbioru danych widoczny jest jedynie przedwczesny załamek P.\n",
    "\n",
    "![PAC_example.png](https://live.staticflickr.com/65535/54254324138_df77fdd62a_o.png)\n",
    "\n",
    "#### PVC\n",
    "**Premature Ventricular Contractions (PVCs)**, czyli przedwczesne skurcze komorowe, są dodatkowymi uderzeniami serca, które rozpoczynają się w jednej z dwóch komór serca i zakłócają jego regularny rytm. Są jednym z powszechnych rodzajów arytmii. Skurcze te zachodzą wcześniej niż byłoby to oczekiwane na podstawie poprzednich odstępów R-R.\n",
    "\n",
    "![PVC_example.png](https://live.staticflickr.com/65535/54254518540_12ba23c53f_o.png)\n",
    "\n",
    "#### STEMI\n",
    "**ST-elevation myocardial infarction (STEMI)**, czyli zawał mięśnia sercowego z uniesieniem odcinka ST, powoduje zablokowanie przepływu krwi do mięśnia sercowego i jego obumarcie. Segment ST występuje tuż po zespole QRS. W normalnej sytuacji nie ma tam żadnej aktywności elektrycznej, przez co jest on płaski. Jeśli zaś występuje uniesienie odcinka ST, oznacza to blokadę jednej z głównych tętnic doprowadzających krew do serca.\n",
    "\n",
    "![STEMI_example.png](https://live.staticflickr.com/65535/54254099356_422c23144e_o.png)\n",
    "\n",
    "---\n",
    "\n",
    "**Źródła opisu medycznego dot. EKG**: [1](https://www.healio.com/cardiology/learn-the-heart/ecg-review/ecg-topic-reviews-and-criteria/premature-ventricular-contractions-review), [2](https://www.mayoclinic.org/diseases-conditions/premature-ventricular-contractions/symptoms-causes/syc-20376757), [3](https://litfl.com/premature-atrial-complex-pac/), [4](https://www.healio.com/cardiology/learn-the-heart/ecg-review/ecg-topic-reviews-and-criteria/premature-atrial-contractions-review), [5](https://www.mayoclinic.org/diseases-conditions/atrial-fibrillation/symptoms-causes/syc-20350624), [6](https://www.healio.com/cardiology/learn-the-heart/ecg-review/ecg-topic-reviews-and-criteria/atrial-fibrillation-review), [7](https://my.clevelandclinic.org/health/diseases/22068-stemi-heart-attack), obraz załamków PQRST na podstawie [8](https://www.sciencedirect.com/science/article/pii/S0213911121002466)."
   ]
  },
  {
   "cell_type": "markdown",
   "id": "0221e864-03ae-4230-8a37-bfec058ff3ac",
   "metadata": {},
   "source": [
    "# Kod Startowy\n",
    "\n",
    "W tej sekcji inicjalizujemy środowisko poprzez zaimportowanie potrzebnych bibliotek i funkcji. Przygotowany kod ułatwi Tobie efektywne operowanie na danych i budowanie właściwego rozwiązania."
   ]
  },
  {
   "cell_type": "code",
   "execution_count": null,
   "id": "a4053c4df3efc18b",
   "metadata": {
    "collapsed": false,
    "jupyter": {
     "outputs_hidden": false
    }
   },
   "outputs": [],
   "source": [
    "######################### NIE ZMIENIAJ TEJ KOMÓRKI PODCZAS WYSYŁANIA ##########################\n",
    "\n",
    "# W czasie sprawdzania Twojego rozwiązania, wartość flagi FINAL_EVALUATION_MODE zostanie zmieniona na True\n",
    "FINAL_EVALUATION_MODE = False"
   ]
  },
  {
   "cell_type": "code",
   "execution_count": null,
   "id": "8511460ed63f204e",
   "metadata": {
    "ExecuteTime": {
     "end_time": "2024-12-13T09:35:09.165587Z",
     "start_time": "2024-12-13T09:35:07.499912Z"
    },
    "collapsed": false,
    "jupyter": {
     "outputs_hidden": false
    }
   },
   "outputs": [],
   "source": [
    "######################### NIE ZMIENIAJ TEJ KOMÓRKI PODCZAS WYSYŁANIA ##########################\n",
    "import cloudpickle\n",
    "\n",
    "import os\n",
    "import random\n",
    "from abc import ABC, abstractmethod\n",
    "\n",
    "import numpy as np\n",
    "from sklearn.ensemble import RandomForestClassifier\n",
    "from sklearn.metrics import balanced_accuracy_score"
   ]
  },
  {
   "cell_type": "code",
   "execution_count": null,
   "id": "82c4f388e11fc3ed",
   "metadata": {
    "collapsed": false,
    "jupyter": {
     "outputs_hidden": false
    }
   },
   "outputs": [],
   "source": [
    "######################### NIE ZMIENIAJ TEJ KOMÓRKI PODCZAS WYSYŁANIA ##########################\n",
    "\n",
    "# Ustawienie ziarna generatora liczb pseudolosowych w celu zapewnienia deterministyczności wyników.\n",
    "random.seed(42)\n",
    "np.random.seed(42)"
   ]
  },
  {
   "cell_type": "markdown",
   "id": "f6ae949692319123",
   "metadata": {
    "jupyter": {
     "outputs_hidden": false
    }
   },
   "source": [
    "## Ładowanie Danych\n",
    "Za pomocą poniższego kodu wczytujemy dane."
   ]
  },
  {
   "cell_type": "code",
   "execution_count": null,
   "id": "aceaa260cc57432c",
   "metadata": {
    "collapsed": false,
    "jupyter": {
     "outputs_hidden": false
    }
   },
   "outputs": [],
   "source": [
    "######################### NIE ZMIENIAJ TEJ KOMÓRKI PODCZAS WYSYŁANIA ##########################\n",
    "\n",
    "train_val_filename = \"train_validation_sets.npz\"\n",
    "if not os.path.exists(train_val_filename):\n",
    "    import gdown\n",
    "    url = \"https://drive.google.com/file/d/1pCqgbsKBQP1UnH2kMmBKRS1AuvmSl9jx/view?usp=sharing\"\n",
    "    gdown.download(url, train_val_filename, quiet=True, fuzzy=True)\n",
    "\n",
    "train_valid_bundle = np.load(\"train_validation_sets.npz\", allow_pickle=True)\n",
    "x_train = train_valid_bundle[\"X_train\"]\n",
    "y_train = train_valid_bundle[\"y_train\"]\n",
    "y_train_str = train_valid_bundle[\"anomaly_train\"]\n",
    "\n",
    "x_valid = train_valid_bundle[\"X_validation\"]\n",
    "y_valid = train_valid_bundle[\"y_validation\"]\n",
    "y_valid_str = train_valid_bundle[\"anomaly_validation\"]"
   ]
  },
  {
   "cell_type": "markdown",
   "id": "39ff3878366476e8",
   "metadata": {
    "jupyter": {
     "outputs_hidden": false
    }
   },
   "source": [
    "## Publiczny Interfejs Rozwiązania\n",
    "\n",
    "Tylko tego wymagamy od Twojej klasy. W Twoim rozwiązaniu możesz modyfikować swoją klasę do woli dodając atrybuty oraz nowe metody obliczające metacechy - cokolwiek co będzie Ci potrzebne do rozwiązania zadania."
   ]
  },
  {
   "cell_type": "code",
   "execution_count": null,
   "id": "55f895fcd12becb3",
   "metadata": {
    "collapsed": false,
    "jupyter": {
     "outputs_hidden": false
    }
   },
   "outputs": [],
   "source": [
    "######################### NIE ZMIENIAJ TEJ KOMÓRKI PODCZAS WYSYŁANIA ##########################\n",
    "\n",
    "class ISolution(ABC):\n",
    "    random_forest: RandomForestClassifier | None = None\n",
    "\n",
    "    @classmethod\n",
    "    def create_with_training(cls) -> \"ISolution\":\n",
    "        \"\"\"Metoda służąca do stworzenia rozwiązania z wytrenowanym lasem losowym.\"\"\"\n",
    "        solution = cls()\n",
    "\n",
    "        hyperparameters = cls.get_rf_hyperparameters()\n",
    "        hyperparameters = cls.validate_hyperparameters(hyperparameters)\n",
    "        solution.random_forest = RandomForestClassifier(**hyperparameters)\n",
    "\n",
    "        meta_features = solution.compute_meta_features(x_train)\n",
    "        solution.random_forest.fit(meta_features, y_train)\n",
    "        return solution\n",
    "\n",
    "    @staticmethod\n",
    "    def validate_hyperparameters(hyperparameters: dict[str, int | float | str]) -> dict[str, int | float | str]:\n",
    "        \"\"\"\n",
    "        Funkcja ta sprawdza, czy hiperparametry lasu losowego są zgodne z wymaganiami zadania. Jeśli nie, to poprawia je na\n",
    "        domyślne wartości.\n",
    "        \"\"\"\n",
    "        hyperparameters[\"n_estimators\"] = min(hyperparameters.get(\"n_estimators\", 10), 10)\n",
    "        hyperparameters[\"max_depth\"] = min(hyperparameters.get(\"max_depth\", 10), 10)\n",
    "        hyperparameters[\"random_state\"] = 42\n",
    "        return hyperparameters\n",
    "\n",
    "    @abstractmethod\n",
    "    def compute_meta_features(self, x: np.ndarray) -> np.ndarray:\n",
    "        \"\"\"\n",
    "        Funkcja ta powinna dla każdego przykładu ze zbioru $x$ opisanego 150 cechami zwrócić wektor 4 cech, który będzie\n",
    "        reprezentował ten przykład. Funkcja ta powinna przekształcać wejściową tablicę o rozmiarze (n, 150) na tablicę o\n",
    "        rozmiarze (n, 4).\n",
    "        \"\"\"\n",
    "\n",
    "        pass\n",
    "\n",
    "    @staticmethod\n",
    "    @abstractmethod\n",
    "    def get_rf_hyperparameters() -> dict[str, int | float | str]:\n",
    "        \"\"\"\n",
    "        Funkcja ta powinna zwracać słownik z hiperparametrami lasu losowego. Pamiętaj o ograniczeniach na liczbę drzew i ich\n",
    "        głębokość!\n",
    "        \"\"\"\n",
    "\n",
    "        pass\n"
   ]
  },
  {
   "cell_type": "markdown",
   "id": "76fa659473771fa",
   "metadata": {
    "jupyter": {
     "outputs_hidden": false
    }
   },
   "source": [
    "## Kod z Kryterium Oceniającym\n",
    "Kod, zbliżony do poniższego, będzie używany do oceny rozwiązania na zbiorze testowym."
   ]
  },
  {
   "cell_type": "code",
   "execution_count": null,
   "id": "621097e2336ffec3",
   "metadata": {
    "collapsed": false,
    "jupyter": {
     "outputs_hidden": false
    }
   },
   "outputs": [],
   "source": [
    "######################### NIE ZMIENIAJ TEJ KOMÓRKI PODCZAS WYSYŁANIA ##########################\n",
    "\n",
    "def balanced_accuracy_to_score(balanced_accuracy: float) -> float:\n",
    "    return min(max((balanced_accuracy - 75.) * (100. / (98. - 75.)), 0.), 100.)\n",
    "\n",
    "\n",
    "def score_solution(solution: ISolution) -> float:\n",
    "    x, y = x_valid, y_valid\n",
    "    meta_features = solution.compute_meta_features(x)\n",
    "    y_hat = solution.random_forest.predict(meta_features)\n",
    "    balanced_accuracy = 100. * balanced_accuracy_score(y, y_hat)\n",
    "\n",
    "    assert meta_features.shape[-1] <= 4\n",
    "    assert solution.random_forest.n_estimators <= 10\n",
    "    assert solution.random_forest.max_depth <= 10\n",
    "\n",
    "    if not FINAL_EVALUATION_MODE:\n",
    "        print(\"Ocena działania modelu: \\n\")\n",
    "        print(f\"Zbalansowana dokładność klasyfikacji: {balanced_accuracy: .4f}\")\n",
    "    return int(round(balanced_accuracy_to_score(balanced_accuracy)))"
   ]
  },
  {
   "cell_type": "markdown",
   "id": "a866b78776f10fe9",
   "metadata": {
    "jupyter": {
     "outputs_hidden": false
    }
   },
   "source": [
    "## Przykładowe Rozwiązanie\n",
    "\n",
    "Poniżej przedstawiamy uproszczone rozwiązanie, które służy jako przykład demonstrujący podstawową funkcjonalność notatnika. Może ono posłużyć jako punkt wyjścia do opracowania Twojego rozwiązania."
   ]
  },
  {
   "cell_type": "code",
   "execution_count": null,
   "id": "f561bb976552807f",
   "metadata": {
    "collapsed": false,
    "jupyter": {
     "outputs_hidden": false
    }
   },
   "outputs": [],
   "source": [
    "######################### NIE ZMIENIAJ TEJ KOMÓRKI PODCZAS WYSYŁANIA ##########################\n",
    "\n",
    "class ExemplarySolution(ISolution):\n",
    "    def compute_meta_features(self, x: np.ndarray) -> np.ndarray:\n",
    "        return np.array([\n",
    "            np.min(x, axis=1),\n",
    "            np.max(x, axis=1),\n",
    "            np.mean(x, axis=1),\n",
    "            np.std(x, axis=1)\n",
    "        ]).T\n",
    "\n",
    "    @staticmethod\n",
    "    def get_rf_hyperparameters() -> dict[str, int | float | str]:\n",
    "        return {\n",
    "            \"n_estimators\": 3,\n",
    "            \"random_state\": 42\n",
    "        }"
   ]
  },
  {
   "cell_type": "code",
   "execution_count": null,
   "id": "c2e3614d",
   "metadata": {},
   "outputs": [],
   "source": [
    "if not FINAL_EVALUATION_MODE:\n",
    "    exemplary_solution = ExemplarySolution.create_with_training()\n",
    "    print(f\"Ocena: {score_solution(exemplary_solution)} pkt\")"
   ]
  },
  {
   "cell_type": "markdown",
   "id": "d246838dce737412",
   "metadata": {
    "jupyter": {
     "outputs_hidden": false
    }
   },
   "source": [
    "# Twoje Rozwiązanie\n",
    "\n",
    "W tej sekcji należy umieścić Twoje rozwiązanie. Wprowadzaj zmiany wyłącznie tutaj!"
   ]
  },
  {
   "cell_type": "code",
   "execution_count": null,
   "id": "182ac3bfb15bdb9c",
   "metadata": {
    "collapsed": false,
    "jupyter": {
     "outputs_hidden": false
    }
   },
   "outputs": [],
   "source": [
    "def detect_qrs(ecg_signal):\n",
    "    signal_length = len(ecg_signal)\n",
    "    middle = signal_length // 2\n",
    "    try:\n",
    "        r_peak = np.argmax(ecg_signal)\n",
    "        q_point = np.argmin(ecg_signal[:r_peak])\n",
    "        p_point = q_point\n",
    "        for i in range(q_point - 1, 0, -1):\n",
    "            if (ecg_signal[i] > ecg_signal[i - 1] and \n",
    "                ecg_signal[i] > ecg_signal[i + 1] and \n",
    "                (ecg_signal[i] - ecg_signal[q_point]) > 0.5):\n",
    "                p_point = i\n",
    "                break\n",
    "        s_point = r_peak\n",
    "        last_valid_s_point = r_peak\n",
    "        non_decreasing_points_count = 0\n",
    "        p_height = ecg_signal[p_point]\n",
    "        s_threshold = p_height - 0.1\n",
    "        for i in range(r_peak + 1, len(ecg_signal) - 1):\n",
    "            if ecg_signal[i] < s_threshold:\n",
    "                closest_diff = float('inf')\n",
    "                adjusted_s_point = r_peak\n",
    "                for j in range(r_peak + 1, i):\n",
    "                    current_diff = abs(ecg_signal[j] - p_height)\n",
    "                    if current_diff < closest_diff:\n",
    "                        closest_diff = current_diff\n",
    "                        adjusted_s_point = j\n",
    "                s_point = adjusted_s_point\n",
    "                break\n",
    "            if ecg_signal[i] < ecg_signal[s_point]:\n",
    "                s_point = i\n",
    "                last_valid_s_point = i\n",
    "                non_decreasing_points_count = 0\n",
    "            elif ecg_signal[i] >= ecg_signal[s_point]:\n",
    "                if (i - r_peak) > 15:\n",
    "                    s_point = last_valid_s_point\n",
    "                    break\n",
    "                else:\n",
    "                    non_decreasing_points_count += 1\n",
    "                    if non_decreasing_points_count > 1:\n",
    "                        s_point = last_valid_s_point\n",
    "                        break\n",
    "        if (ecg_signal[r_peak] - ecg_signal[s_point]) <= 0.5:\n",
    "            s_point = r_peak\n",
    "        if ecg_signal[s_point] < s_threshold:\n",
    "            closest_diff = float('inf')\n",
    "            adjusted_s_point = r_peak\n",
    "            for i in range(r_peak + 1, min(len(ecg_signal), r_peak + 15)):\n",
    "                current_diff = abs(ecg_signal[i] - p_height)\n",
    "                if current_diff < closest_diff:\n",
    "                    closest_diff = current_diff\n",
    "                    adjusted_s_point = i\n",
    "                    if current_diff < 0.05:\n",
    "                        break\n",
    "            s_point = adjusted_s_point\n",
    "    except:\n",
    "        r_peak = middle\n",
    "        s_point = min(signal_length - 1, middle + 15)\n",
    "        q_point = max(0, middle - 15)\n",
    "        p_point = max(0, middle - 35)\n",
    "    \n",
    "    return p_point, q_point, r_peak, s_point\n",
    "\n",
    "\n",
    "\n",
    "def compute_pac_feature(ecg_signal, p_point, s_point):\n",
    "    pac_score = 0.0\n",
    "    post_s_score = 0.0\n",
    "    pre_p_score = 0.0\n",
    "    start_post_s = s_point + 2\n",
    "    post_s = ecg_signal[start_post_s:]\n",
    "    if len(post_s) < 5:\n",
    "        post_s_score = 0.0\n",
    "    else:\n",
    "        b = np.max(post_s)\n",
    "        max_index = np.argmax(post_s)\n",
    "        start_neighbor_index = max(0, max_index - 10)\n",
    "        end_neighbor_index = min(len(post_s), max_index + 11)\n",
    "        left_neighbors = post_s[start_neighbor_index:max_index]\n",
    "        right_neighbors = post_s[max_index+1:end_neighbor_index]\n",
    "        left_valley_depth = 0\n",
    "        for neighbor_point in left_neighbors:\n",
    "            if neighbor_point < b:\n",
    "                current_left_valley_depth = b - neighbor_point - 0.05\n",
    "                left_valley_depth = max(left_valley_depth, current_left_valley_depth)\n",
    "        right_valley_depth = 0\n",
    "        for neighbor_point in right_neighbors:\n",
    "            if neighbor_point < b:\n",
    "                current_right_valley_depth = b - neighbor_point - 0.05\n",
    "                right_valley_depth = max(right_valley_depth, current_right_valley_depth)\n",
    "        right_valley_truncated = (end_neighbor_index == len(post_s))\n",
    "        if right_valley_truncated and len(right_neighbors) < 11:\n",
    "            neighbor_height = left_valley_depth\n",
    "        else:\n",
    "            neighbor_height = min(left_valley_depth, right_valley_depth)\n",
    "        post_s_score = neighbor_height * 4\n",
    "    end_pre_p = p_point\n",
    "    pre_p = ecg_signal[:end_pre_p]\n",
    "    if len(pre_p) < 5:\n",
    "        pre_p_score = 0.0\n",
    "    else:\n",
    "        b = np.max(pre_p)\n",
    "        max_index = np.argmax(pre_p)\n",
    "        start_neighbor_index = max(0, max_index - 10)\n",
    "        end_neighbor_index = min(len(pre_p), max_index + 11)\n",
    "        neighbor_region = np.concatenate((pre_p[start_neighbor_index:max_index],\n",
    "                                         pre_p[max_index+1:end_neighbor_index]))\n",
    "        has_lower_neighbor = False\n",
    "        for neighbor_point in neighbor_region:\n",
    "            if neighbor_point < b:\n",
    "                has_lower_neighbor = True\n",
    "                neighbor_height = b - neighbor_point - 0.05\n",
    "                break\n",
    "        if has_lower_neighbor:\n",
    "            pre_p_score = neighbor_height * 4\n",
    "        else:\n",
    "            pre_p_score = 0.0\n",
    "    pac_score = max(pre_p_score, post_s_score)\n",
    "    return pac_score\n",
    "\n",
    "def compute_pvc_feature(ecg_signal, s_point):\n",
    "    t_end = s_point\n",
    "    post_t = ecg_signal[t_end:]\n",
    "    if len(post_t) < 5:\n",
    "        return 0\n",
    "    post_t_mean = np.mean(post_t)\n",
    "    num_blocks = 10\n",
    "    block_size = len(post_t) // num_blocks\n",
    "    if block_size == 0:\n",
    "        block_size = len(post_t)\n",
    "        num_blocks = 1\n",
    "    max_valley_depth = 0\n",
    "    for block_index in range(num_blocks):\n",
    "        start_block = block_index * block_size\n",
    "        end_block = start_block + block_size\n",
    "        if block_index == num_blocks - 1:\n",
    "            end_block = len(post_t)\n",
    "        current_block = post_t[start_block:end_block]\n",
    "        if len(current_block) == 0:\n",
    "            continue\n",
    "        block_sorted = np.sort(current_block)\n",
    "        top_half_block = block_sorted[len(block_sorted)//10:]\n",
    "        top_half_mean = np.mean(top_half_block)\n",
    "        if top_half_mean > post_t_mean:\n",
    "            continue\n",
    "        b_block = np.min(current_block)\n",
    "        min_index_block_relative = np.argmin(current_block)\n",
    "        min_index_block_absolute = start_block + min_index_block_relative\n",
    "        start_neighbor_index = max(0, min_index_block_absolute - 10)\n",
    "        end_neighbor_index = min(len(post_t), min_index_block_absolute + 11)\n",
    "        neighbor_region = np.concatenate((post_t[start_neighbor_index:min_index_block_absolute],\n",
    "                                            post_t[min_index_block_absolute+1:end_neighbor_index]))\n",
    "        has_higher_neighbor = False\n",
    "        current_block_valley_depth = 0\n",
    "        for neighbor_point in neighbor_region:\n",
    "            if neighbor_point > b_block:\n",
    "                has_higher_neighbor = True\n",
    "                neighbor_height = neighbor_point - b_block - 0.05\n",
    "                current_block_valley_depth = neighbor_height\n",
    "                break\n",
    "        if has_higher_neighbor:\n",
    "            max_valley_depth = max(max_valley_depth, current_block_valley_depth)\n",
    "    return max_valley_depth * 4\n",
    "\n",
    "def compute_afib_feature(p_point, s_point, ecg_signal):\n",
    "    afib_score_pre_p = 0.0\n",
    "    afib_score_post_s = 0.0\n",
    "    if p_point > 1:\n",
    "        segment_pre_p = ecg_signal[:p_point]\n",
    "        for i in range(len(segment_pre_p) - 1):\n",
    "            diff = abs(segment_pre_p[i+1] - segment_pre_p[i])\n",
    "            afib_score_pre_p += diff\n",
    "    if s_point < len(ecg_signal) - 2:\n",
    "        segment_post_s = ecg_signal[s_point+1:]\n",
    "        for i in range(len(segment_post_s) - 1):\n",
    "            diff = abs(segment_post_s[i+1] - segment_post_s[i])\n",
    "            afib_score_post_s += diff\n",
    "    afib_score = afib_score_post_s + afib_score_pre_p\n",
    "    return max(0, afib_score - 4.5)\n",
    "\n",
    "\n",
    "def check_st_elevation(ecg_signal, s_point, threshold=0.04):\n",
    "    st_segment = ecg_signal[s_point: min(len(ecg_signal), s_point + 7)]\n",
    "    \n",
    "    if len(st_segment) == 0:\n",
    "        return 0.0\n",
    "    max_index_in_segment = np.argmax(st_segment)\n",
    "    max_index = s_point + max_index_in_segment\n",
    "    max_st_point = ecg_signal[max_index]\n",
    "    st_elevation = max_st_point - ecg_signal[s_point]\n",
    "    higher_point_found = False\n",
    "    for i in range(max_index_in_segment + 1, len(st_segment)):\n",
    "        if st_segment[i] - 0.05 > max_st_point:\n",
    "            higher_point_found = True\n",
    "            break\n",
    "    if st_elevation >= threshold and not higher_point_found:\n",
    "        return st_elevation * 3\n",
    "    else:\n",
    "        return 0.0\n",
    "\n",
    "\n",
    "class YourSolution(ISolution):\n",
    "    def compute_meta_features(self, x: np.ndarray) -> np.ndarray:\n",
    "        n_samples = x.shape[0]\n",
    "        meta_features = np.zeros((n_samples, 4))\n",
    "        for i in range(n_samples):\n",
    "            signal = x[i]\n",
    "            p, q, r, s = detect_qrs(signal)\n",
    "            st_elevation= check_st_elevation(signal, s)\n",
    "            pac_score = compute_pac_feature(signal, p, s)\n",
    "            pvc_likelihood = compute_pvc_feature(signal, s)\n",
    "            afib_likelihood = compute_afib_feature(p, s, signal)\n",
    "            meta_features[i, 0] = st_elevation\n",
    "            meta_features[i, 1] = pac_score\n",
    "            meta_features[i, 2] = pvc_likelihood\n",
    "            meta_features[i, 3] = afib_likelihood\n",
    "        return meta_features\n",
    "\n",
    "    def get_rf_hyperparameters() -> dict[str, int | float | str]:\n",
    "        return {\n",
    "            \"n_estimators\": 10,\n",
    "            \"max_depth\": 9,\n",
    "            \"random_state\": 42,\n",
    "            \"min_samples_split\": 20,\n",
    "            \"min_samples_leaf\": 5,\n",
    "            \"class_weight\": \"balanced_subsample\",\n",
    "        }"
   ]
  },
  {
   "cell_type": "markdown",
   "id": "2ce82420",
   "metadata": {},
   "source": [
    "# Ewaluacja\n",
    "\n",
    "Uruchomienie poniższej komórki pozwoli sprawdzić, ile punktów zdobyłoby Twoje rozwiązanie na danych walidacyjnych. Przed wysłaniem upewnij się, że cały notebook wykonuje się od początku do końca bez błędów i bez konieczności ingerencji użytkownika po wybraniu opcji \"Run All\".\n",
    "\n",
    "Podczas sprawdzania model zostanie zapisany jako `your_model.pkl` i oceniony na zbiorze testowym."
   ]
  },
  {
   "cell_type": "code",
   "execution_count": null,
   "id": "686d3d51d2952d95",
   "metadata": {
    "collapsed": false,
    "jupyter": {
     "outputs_hidden": false
    }
   },
   "outputs": [],
   "source": [
    "######################### NIE ZMIENIAJ TEJ KOMÓRKI PODCZAS WYSYŁANIA ##########################\n",
    "if FINAL_EVALUATION_MODE:\n",
    "    your_solution = YourSolution.create_with_training()\n",
    "    print(f\"Ocena: {score_solution(your_solution)} pkt\")\n",
    "\n",
    "    OUTPUT_PATH = \"file_output\"\n",
    "    FUNCTION_FILENAME = \"your_solution\"\n",
    "    FUNCTION_OUTPUT_PATH = os.path.join(OUTPUT_PATH, FUNCTION_FILENAME)\n",
    "\n",
    "    if not os.path.exists(OUTPUT_PATH):\n",
    "        os.makedirs(OUTPUT_PATH)\n",
    "    \n",
    "    with open(\"file_output/your_model.pkl\", \"wb\") as model_out:\n",
    "        cloudpickle.dump(your_solution, model_out)"
   ]
  }
 ],
 "metadata": {
  "kernelspec": {
   "display_name": "Python 3 (ipykernel)",
   "language": "python",
   "name": "python3"
  },
  "language_info": {
   "codemirror_mode": {
    "name": "ipython",
    "version": 3
   },
   "file_extension": ".py",
   "mimetype": "text/x-python",
   "name": "python",
   "nbconvert_exporter": "python",
   "pygments_lexer": "ipython3",
   "version": "3.9.12"
  }
 },
 "nbformat": 4,
 "nbformat_minor": 5
}
